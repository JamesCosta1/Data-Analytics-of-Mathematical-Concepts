{
 "cells": [
  {
   "cell_type": "markdown",
   "metadata": {},
   "source": [
    "<h1>Predictive Model for Student Admission Using Logistic Regression</h1>"
   ]
  },
  {
   "cell_type": "markdown",
   "metadata": {},
   "source": [
    "With the provided data containg a student's two exam scores, we will construct a model that will be used to predict if a student will be admitted into a University."
   ]
  },
  {
   "cell_type": "code",
   "execution_count": 13,
   "metadata": {},
   "outputs": [],
   "source": [
    "import numpy as np\n",
    "import matplotlib.pyplot as plt\n",
    "import copy\n",
    "import math\n",
    "\n",
    "%matplotlib inline"
   ]
  },
  {
   "cell_type": "markdown",
   "metadata": {},
   "source": [
    "We will start by loading in the data set."
   ]
  },
  {
   "cell_type": "code",
   "execution_count": 14,
   "metadata": {},
   "outputs": [],
   "source": [
    "def load_data(file):\n",
    "    '''\n",
    "    Args:\n",
    "        file (str): A file from which we will pull data from.\n",
    "    \n",
    "    Returns:\n",
    "        X (ndarray Shape (100, 2)): 100 training examples attained from the first two elements of each row\n",
    "        y (ndarray Shape (100,)):   100 target values attained from the last element of each row.\n",
    "    '''\n",
    "    data = np.loadtxt(file, delimiter=',')\n",
    "    X = data[:,:2]\n",
    "    y = data[:,2]\n",
    "    return X, y\n",
    "\n",
    "X_train, y_train = load_data('/home/james/python/misc_projects/Data-Analytics-of-Mathematical-Concepts/student_admittion_classification/student_admission_data.txt')"
   ]
  },
  {
   "cell_type": "markdown",
   "metadata": {},
   "source": [
    "Let's better understand the data by viewing the first few rows of each array, observe their dimensions, and lastly we will visualize our data."
   ]
  },
  {
   "cell_type": "code",
   "execution_count": 15,
   "metadata": {},
   "outputs": [
    {
     "name": "stdout",
     "output_type": "stream",
     "text": [
      "X-train is of shape (100, 2)\n",
      "The first 10 training examples are:\n",
      " [[34.62 78.02]\n",
      " [30.29 43.89]\n",
      " [35.85 72.9 ]\n",
      " [60.18 86.31]\n",
      " [79.03 75.34]\n",
      " [45.08 56.32]\n",
      " [61.11 96.51]\n",
      " [75.02 46.55]\n",
      " [76.1  87.42]\n",
      " [84.43 43.53]]\n",
      "\n",
      "y-train is of shape (100,)\n",
      "The first 10 target values are:\n",
      " [[0.]\n",
      " [0.]\n",
      " [0.]\n",
      " [1.]\n",
      " [1.]\n",
      " [0.]\n",
      " [1.]\n",
      " [1.]\n",
      " [1.]\n",
      " [1.]]\n"
     ]
    }
   ],
   "source": [
    "print(f'X-train is of shape {X_train.shape}')\n",
    "print(f'The first 10 training examples are:\\n {np.round(X_train[:10], 2)}')\n",
    "print(f'\\ny-train is of shape {y_train.shape}')\n",
    "print(f'The first 10 target values are:\\n {y_train[:10].reshape(-1,1)}')\n"
   ]
  },
  {
   "cell_type": "code",
   "execution_count": 16,
   "metadata": {},
   "outputs": [
    {
     "data": {
      "image/png": "[encoded data removed]",
      "text/plain": [
       "<Figure size 640x480 with 1 Axes>"
      ]
     },
     "metadata": {},
     "output_type": "display_data"
    }
   ],
   "source": [
    "def plot_data(X, y, pos_label=\"y=1\", neg_label=\"y=0\"):\n",
    "    negative = (y == 0)\n",
    "    positive = (y == 1)\n",
    "    \n",
    "    plt.plot(X[positive, 0], X[positive, 1], 'bo', label=pos_label)\n",
    "    plt.plot(X[negative, 0], X[negative, 1], 'kx', label=neg_label)\n",
    "\n",
    "\n",
    "\n",
    "\n",
    "# Plot examples\n",
    "plot_data(X_train, y_train[:], pos_label=\"Admitted\", neg_label=\"Not admitted\")\n",
    "\n",
    "# Set the x-axis label\n",
    "plt.xlabel('Exam 1 score')\n",
    "# Set the y-axis label\n",
    "plt.ylabel('Exam 2 score')\n",
    "plt.legend(loc=\"lower left\")\n",
    "plt.show()"
   ]
  },
  {
   "cell_type": "markdown",
   "metadata": {},
   "source": [
    "Now we will build a logistic regression model to fit the data.\n",
    "\n",
    "We will be using the sigmoid function:\n",
    "\n",
    "$$ f_{\\vec{w},b}(\\vec{x}) = \\frac{1}{1+e^{-\\vec{w} \\cdot \\vec{x} - b}}"
   ]
  },
  {
   "cell_type": "code",
   "execution_count": 17,
   "metadata": {},
   "outputs": [],
   "source": [
    "def sigmoid(z):\n",
    "    '''\n",
    "    Args:\n",
    "        z (ndarray Shape (m,n)): The argument of the sigmoid function\n",
    "\n",
    "    Returns:\n",
    "        g (ndarray Shape (m,n)): The output of the sigmoid function\n",
    "    '''\n",
    "\n",
    "    g = 1 / (1 + np.exp(-z))\n",
    "\n",
    "    return g"
   ]
  },
  {
   "cell_type": "markdown",
   "metadata": {},
   "source": [
    "Now we will compute the cost function of our model.\n",
    "\n",
    "The cost function for logistic regression is:\n",
    "\n",
    "\n",
    "$$ J(\\vec{w},b) = \\frac{1}{m}\\sum_{i=1}^{m} \\left[ loss(f_{\\vec{w},b}(\\vec{x}^{(i)}), y^{(i)}) \\right]$$\n",
    "\n",
    "where:\n",
    "\n",
    "* m is the number of training examples in the dataset.\n",
    "\n",
    "* $x^{(i)}$ is the features of the $i^{th}$ training example.\n",
    "\n",
    "* $y^{(i)}$ is the target value for the $i^{th}$ training example.\n",
    "\n",
    "*  $f_{\\vec{w},b}(\\vec{x}^{(i)})$ is the model's prediction.\n",
    "\n",
    "* $loss(f_{\\vec{w},b}(\\vec{x}^{(i)}), y^{(i)})$ is the cost for the $i^{th}$ training example, which is:\n",
    "\n",
    "    $$loss(f_{\\vec{w},b}(\\vec{x}^{(i)}), y^{(i)}) := -y^{(i)} \\ln\\left(f_{\\vec{w},b}\\left( \\vec{x}^{(i)} \\right) \\right) - \\left( 1 - y^{(i)}\\right) \\ln\\left( 1 - f_{\\vec{w},b}\\left( \\vec{x}^{(i)} \\right) \\right)$$\n",
    "\n"
   ]
  },
  {
   "cell_type": "code",
   "execution_count": 18,
   "metadata": {},
   "outputs": [],
   "source": [
    "def compute_cost(X, y, w, b):\n",
    "    \"\"\"\n",
    "    Computes the cost over all examples\n",
    "\n",
    "    Args:\n",
    "      X (ndarray Shape (m,n)):   data, m examples by n features\n",
    "      y (ndarray Shape (m,)): target value \n",
    "      w (ndarray Shape(n,)): Values of parameters of the model\n",
    "      b (int):                   scalar Values of model's bias parameter\n",
    "      \n",
    "    Returns:\n",
    "      total_cost (scalar):       cost of the model\n",
    "    \"\"\"\n",
    "\n",
    "    m, n = X.shape\n",
    "    \n",
    "    loss_sum = 0\n",
    "    # Loop over each example for the summation\n",
    "    for i in range(m):\n",
    "        z_wb = 0\n",
    "        # Loop over each feature\n",
    "        for j in range(n):\n",
    "            z_wb_ij = w[j] * X[i][j]\n",
    "            z_wb += z_wb_ij\n",
    "        z_wb += b\n",
    "        f_wb = sigmoid(z_wb)\n",
    "        loss = -(y[i] * np.log(f_wb)) - ((1 - y[i]) * np.log(1 - f_wb))\n",
    "        loss_sum += loss\n",
    "\n",
    "    total_cost = loss_sum / m\n",
    "\n",
    "    return total_cost"
   ]
  },
  {
   "cell_type": "markdown",
   "metadata": {},
   "source": [
    "Next we will run gradient decent for logistic regression.\n",
    "\n",
    "We will repeat until convergence:\n",
    "\n",
    "$$ \\forall j \\in \\text{\\{1, 2 , ... , n\\}}, $$\n",
    "\n",
    "$$ b := b -  \\alpha \\frac{\\partial J(\\vec{w},b)}{\\partial b} \\text{, and}$$\n",
    "$$w_j := w_j -  \\alpha \\frac{\\partial J(\\vec{w},b)}{\\partial w_j}$$\n",
    "\n",
    "with simultanious updates to parameters $b$ and $w_j$, where:\n",
    "\n",
    "* $\\vec{w}$ are the parameters (weights) of the model.\n",
    "\n",
    "* $b$ is the bias of the model.\n",
    "\n",
    "* And finally:\n",
    "\n",
    "$$\\nabla J(\\vec{w},b) = \\hspace{10pt}<\\frac{1}{m} \\sum\\limits_{i=1}^{m} (f_{\\vec{w},b}(\\vec{x}^{(i)}) - y^{(i)})x_{j}^{(i)} \\hspace{3pt}, \\hspace{8pt}\\frac{1}{m} \\sum\\limits_{i=1}^{m} (f_{\\vec{w},b}(\\vec{x}^{(i)}) - y^{(i)})>$$"
   ]
  },
  {
   "cell_type": "code",
   "execution_count": 19,
   "metadata": {},
   "outputs": [],
   "source": [
    "# UNQ_C3\n",
    "# GRADED FUNCTION: compute_gradient\n",
    "def compute_gradient(X, y, w, b): \n",
    "    \"\"\"\n",
    "    Computes gradient decent\n",
    "\n",
    "    Args:\n",
    "      X (ndarray Shape (m,n)):     data, m examples by n features\n",
    "      y (ndarray Shape (m,)):      target values\n",
    "      w (ndarray Shape (n,)):      Values of parameters of the model\n",
    "      b (int):                     scalar Values of bias parameter of the model\n",
    "      \n",
    "    Returns:\n",
    "      dj_dw (ndarray Shape (m,1)): The partial of cost with respect to w\n",
    "      dj_db (scalar):              The partial of cost with respect to b\n",
    "    \"\"\"\n",
    "    m, n = X.shape\n",
    "    # Initalize our return values\n",
    "    dj_dw = np.zeros(w.shape)\n",
    "    dj_db = 0.\n",
    "\n",
    "    for i in range(m):\n",
    "        z_wb = 0\n",
    "        for j in range(n): \n",
    "            z_wb += w[j] * X[i][j]\n",
    "        z_wb += b\n",
    "        f_wb = sigmoid(z_wb)\n",
    "        \n",
    "        dj_db_i = f_wb - y[i]\n",
    "        dj_db += dj_db_i\n",
    "        \n",
    "        for j in range(n):\n",
    "            dj_dw_ij = (f_wb - y[i]) * X[i][j]\n",
    "            dj_dw[j] += dj_dw_ij\n",
    "            \n",
    "    dj_dw /= m\n",
    "    dj_db /= m\n",
    "\n",
    "    return dj_db, dj_dw"
   ]
  },
  {
   "cell_type": "code",
   "execution_count": 20,
   "metadata": {},
   "outputs": [],
   "source": [
    "def gradient_descent(X, y, w_in, b_in, cost_function, gradient_function, alpha, num_iters): \n",
    "    \"\"\"\n",
    "    Performs batch gradient descent to achieve our model's optimized weights and bias\n",
    "    by updatying the values after each iteration.\n",
    "    \n",
    "    Args:\n",
    "      X (array Shape (m, n):     data, m examples by n features\n",
    "      y (array Shape (m,)):      target values\n",
    "      w_in (array Shape (n,)):   Initial values of parameters of the model\n",
    "      b_in (scalar):             Initial value of parameter of the model\n",
    "      cost_function:             function to compute cost\n",
    "      alpha (float):             Learning rate\n",
    "      num_iters (int):           number of iterations to run gradient descent\n",
    "\n",
    "    Returns:\n",
    "      w (array_like Shape (n,)): Updated values of parameters of the model after\n",
    "        gradient descent is performed\n",
    "\n",
    "      b (scalar):                Updated value of parameter of the model after\n",
    "        gradient descent is performed\n",
    "    \"\"\"\n",
    "    \n",
    "    # Number of training examples\n",
    "    m = len(X)\n",
    "    \n",
    "    # Arrays to store cost J and w at each iteration\n",
    "    J_history = []\n",
    "    w_history = []\n",
    "    \n",
    "    for i in range(num_iters):\n",
    "\n",
    "        # Calculate gradient decent and update the parameters\n",
    "        dj_db, dj_dw = gradient_function(X, y, w_in, b_in)\n",
    "\n",
    "        # Update Parameters using w, b, alpha, and the gradient\n",
    "        w_in = w_in - alpha * dj_dw\n",
    "        b_in = b_in - alpha * dj_db\n",
    "       \n",
    "        # Save cost J at each iteration while preserving resources\n",
    "        if i < 100_000:\n",
    "            cost =  cost_function(X, y, w_in, b_in)\n",
    "            J_history.append(cost)\n",
    "\n",
    "        # Print the cost at every 1000th iteration\n",
    "        if (i % 1000 == 0):\n",
    "            w_history.append(w_in)\n",
    "            print(f\"Iteration: {i:4}\")\n",
    "            print(f\"Cost: {float(J_history[-1]):8.2f}\")\n",
    "            print(f\"w:{w_history[-1]}\")\n",
    "            print(\"\")\n",
    "        \n",
    "    return w_in, b_in, J_history, w_history"
   ]
  },
  {
   "cell_type": "markdown",
   "metadata": {},
   "source": [
    "Let's observe the cost of the model as a funciton of the quantity of iterations."
   ]
  },
  {
   "cell_type": "code",
   "execution_count": 21,
   "metadata": {},
   "outputs": [
    {
     "name": "stdout",
     "output_type": "stream",
     "text": [
      "Iteration:    0\n",
      "Cost:     0.96\n",
      "w:[[0.04397755]\n",
      " [0.04655245]]\n",
      "\n",
      "Iteration: 1000\n",
      "Cost:     0.31\n",
      "w:[[0.06992517]\n",
      " [0.0634808 ]]\n",
      "\n"
     ]
    }
   ],
   "source": [
    "np.random.seed(1)\n",
    "initial_w = 0.01 * (np.random.rand(2).reshape(-1,1) - 0.5)\n",
    "initial_b = -8\n",
    "\n",
    "alpha = 0.001\n",
    "iterations = 10_000\n",
    "\n",
    "w,b, J_history, w_history = gradient_descent(X_train ,y_train, initial_w, initial_b, \n",
    "                                    compute_cost, compute_gradient, alpha, iterations)"
   ]
  },
  {
   "cell_type": "code",
   "execution_count": null,
   "metadata": {},
   "outputs": [
    {
     "data": {
      "image/png": "[encoded data removed]",
      "text/plain": [
       "<Figure size 640x480 with 1 Axes>"
      ]
     },
     "metadata": {},
     "output_type": "display_data"
    }
   ],
   "source": [
    "def plot_decision_boundary(w, b, X, y):\n",
    "     \n",
    "    plot_data(X[:, 0:2], y)\n",
    "    \n",
    "    if X.shape[1] <= 2:\n",
    "        plot_x = np.array([min(X[:, 0]), max(X[:, 0])])\n",
    "        plot_y = (-1. / w[1]) * (w[0] * plot_x + b)\n",
    "        \n",
    "        plt.plot(plot_x, plot_y, c=\"r\")\n",
    "\n",
    "plot_decision_boundary(w, b, X_train, y_train)"
   ]
  },
  {
   "cell_type": "code",
   "execution_count": null,
   "metadata": {},
   "outputs": [
    {
     "data": {
      "image/png": "[encoded data removed]",
      "text/plain": [
       "<Figure size 640x480 with 1 Axes>"
      ]
     },
     "metadata": {},
     "output_type": "display_data"
    }
   ],
   "source": [
    "iterations = [n for n in range(len(J_history))]\n",
    "\n",
    "plt.plot(iterations, J_history, 'g')\n",
    "\n",
    "plt.title('Cost vs Iterations')\n",
    "plt.xlabel('Iterations')\n",
    "plt.ylabel('Cost')\n",
    "\n",
    "plt.xlim(0, 15)\n",
    "plt.ylim(0.2, 0.9)\n",
    "plt.show()"
   ]
  },
  {
   "cell_type": "code",
   "execution_count": null,
   "metadata": {},
   "outputs": [],
   "source": [
    "def predict(X, w, b, t): \n",
    "    \"\"\"\n",
    "    Predict whether the label is 0 or 1 (not admitted or admitted) for a given using the learned\n",
    "    weights and bias\n",
    "    \n",
    "    Args:\n",
    "    X (ndarray Shape (m, n)):  data, m examples by n features\n",
    "    w (ndarray Shape (n,)):    learned Weights of the model\n",
    "    b (scalar):                learned Bias of the model\n",
    "    t (scalar):                threshold\n",
    "\n",
    "    Returns:\n",
    "    p (ndarray (m,1)):         The predictions for X using a threshold of t\n",
    "    \"\"\"\n",
    "\n",
    "    m, n = X.shape  \n",
    "    # Initialize the adimssion array\n",
    "    p = np.zeros(m)\n",
    "   \n",
    "    # Loop over each example\n",
    "    for i in range(m):   \n",
    "        z_wb = 0\n",
    "        # Loop over each feature\n",
    "        for j in range(n): \n",
    "            # Add the corresponding term to z_wb\n",
    "            z_wb += w[j] * X[i][j]\n",
    "        \n",
    "        # Add bias term \n",
    "        z_wb += b\n",
    "        \n",
    "        # Calculate the prediction for this example\n",
    "        f_wb = sigmoid(z_wb)\n",
    "\n",
    "        # Apply the 0.5 threshold to determine adimssion status\n",
    "        p[i] = (f_wb >= t)\n",
    "\n",
    "    return p"
   ]
  }
 ],
 "metadata": {
  "kernelspec": {
   "display_name": "Python 3.10.6 64-bit",
   "language": "python",
   "name": "python3"
  },
  "language_info": {
   "codemirror_mode": {
    "name": "ipython",
    "version": 3
   },
   "file_extension": ".py",
   "mimetype": "text/x-python",
   "name": "python",
   "nbconvert_exporter": "python",
   "pygments_lexer": "ipython3",
   "version": "3.10.6"
  },
  "orig_nbformat": 4,
  "vscode": {
   "interpreter": {
    "hash": "916dbcbb3f70747c44a77c7bcd40155683ae19c65e1c03b4aa3499c5328201f1"
   }
  }
 },
 "nbformat": 4,
 "nbformat_minor": 2
}
